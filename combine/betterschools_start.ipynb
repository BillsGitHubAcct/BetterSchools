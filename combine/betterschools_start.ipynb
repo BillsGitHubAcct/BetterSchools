{
 "cells": [
  {
   "cell_type": "code",
   "execution_count": 1,
   "metadata": {
    "collapsed": true
   },
   "outputs": [],
   "source": [
    "#Importing needed libraries\n",
    "from matplotlib import pyplot as plt\n",
    "import numpy as np\n",
    "import pandas as pd\n",
    "import datetime\n",
    "import seaborn as sns"
   ]
  },
  {
   "cell_type": "code",
   "execution_count": 2,
   "metadata": {
    "collapsed": true
   },
   "outputs": [],
   "source": [
    "#extract\n",
    "\n",
    "# import extract_performance as performance\n",
    "# import extract_student_teacher as student_teacher\n",
    "# import extract_community as community\n",
    "\n",
    "def fx_extract_performance(v_year):\n",
    "    if v_year == 2016:\n",
    "        df_performance = pd.read_csv('result_campus.csv')\n",
    "        rename_dict = {'Campus': 'campus_id' , 'Year' : 'year' , 'Student_count' : 'student_count' , 'Pass_count' : 'pass_count'}\n",
    "        df_performance.rename(columns=rename_dict, inplace=True)\n",
    "        return df_performance\n",
    "\n",
    "def fx_extract_student_teacher(v_year):\n",
    "    if v_year == 2016:\n",
    "        df_student_teacher = pd.read_csv('CAMPPROF_2016.csv')\n",
    "        rename_dict = {\"CPSTTOSA\": \"avg_salary\", \"CAMPUS\": \"campus_id\",\"CPETECOC\": \"ed_count\"}\n",
    "        df_student_teacher.rename(columns=rename_dict, inplace=True)\n",
    "        df_student_teacher['year'] = [v_year for i,r in df_student_teacher.iterrows() ]\n",
    "        df_student_teacher =df_student_teacher.loc[:,['campus_id',  'ed_count', 'avg_salary', 'year']]\n",
    "        return df_student_teacher\n",
    "    if v_year == 2017:\n",
    "        df_student_teacher = pd.read_csv('CAMPPROF_2017.csv')\n",
    "        rename_dict = {\"CPSTTOSA\": \"avg_salary\", \"CAMPUS\": \"campus_id\",\"CPETECOC\": \"ed_count\"}\n",
    "        df_student_teacher.rename(columns=rename_dict, inplace=True)\n",
    "        df_student_teacher['year'] = [v_year for i,r in df_student_teacher.iterrows() ]\n",
    "        df_student_teacher =df_student_teacher.loc[:,['campus_id',  'ed_count', 'avg_salary', 'year']]\n",
    "        return df_student_teacher\n",
    "\n",
    "def fx_extract_community():\n",
    "    df_community = pd.read_csv('Community.csv')\n",
    "    return df_community\n",
    "\n"
   ]
  },
  {
   "cell_type": "code",
   "execution_count": 3,
   "metadata": {
    "collapsed": true
   },
   "outputs": [],
   "source": [
    "# #transform\n",
    "\n",
    "# import transform_campus_merge as campus_merge\n",
    "# import transform_community_merge as community_merge\n",
    "def transform_merge(df_performance,df_student_teacher,df_community):\n",
    "    df_community_performance = pd.merge(df_community,df_performance, on =['campus_id'], how='inner')\n",
    "    df_community_complete = pd.merge(df_community_performance,df_student_teacher,on =['campus_id','year'], how='inner')\n",
    "    df_community_complete['pct_pass'] = [(100*r['pass_count']/r['student_count']) for i, r in df_community_complete.iterrows()]\n",
    "    df_community_complete['pct_ed'] = [(100*r['ed_count']/r['student_count']) for i, r in df_community_complete.iterrows()]\n",
    "    df_community_complete = df_community_complete.reset_index()\n",
    "    return df_community_complete\n",
    "def fx_economical_disadvantage(df_performance,df_student_teacher,df_community):\n",
    "    df_community_complete= transform_merge(df_performance,df_student_teacher,df_community)\n",
    "    df_return = df_community_complete.loc[:,['campus_name',  'pct_ed', 'pct_pass' , 'student_count' , 'community', 'year']]\n",
    "    df_return.drop_duplicates()\n",
    "    df_return = df_return.dropna(how='any')\n",
    "    return df_return\n",
    "def fx_salary(df_performance,df_student_teacher,df_community):\n",
    "    df_community_complete= transform_merge(df_performance,df_student_teacher,df_community)\n",
    "    df_return =df_community_complete.loc[:,['campus_name',  'avg_salary', 'pct_pass' , 'student_count' , 'community', 'year']]\n",
    "    df_return.drop_duplicates()\n",
    "    df_return = df_return.dropna(how='any')\n",
    "    return df_return\n",
    "\n",
    "def fx_community(df_performance,df_community):\n",
    "    df_community_performance = pd.merge(df_community,df_performance,on = 'campus_id', how='inner')\n",
    "    df_community_performance['pct_pass'] = [(100*r['pass_count']/r['student_count']) for i, r in df_community_performance.iterrows()]\n",
    "    unique_community_type = pd.Series(df_community_performance[\"community\"]).unique()\n",
    "    df_community = pd.DataFrame(unique_community_type,columns=['community'])\n",
    "    df_community['median_pass'] = [df_community_performance.loc[(df_community_performance['community']==x) , 'pct_pass'].median()  for x in df_community[\"community\"]]\n",
    "    df_community.drop_duplicates()\n",
    "    df_community = df_community.dropna(how='any')\n",
    "    return df_community\n"
   ]
  },
  {
   "cell_type": "code",
   "execution_count": 4,
   "metadata": {
    "collapsed": true
   },
   "outputs": [],
   "source": [
    "#extract\n",
    "v_interested_year = 2016\n",
    "\n",
    "df_performance = fx_extract_performance(v_interested_year)\n",
    "df_student_teacher = fx_extract_student_teacher(v_interested_year)\n",
    "df_community = fx_extract_community()\n",
    "\n",
    "\n",
    "#transform\n",
    "\n",
    "DataFrame1 = fx_economical_disadvantage(df_performance,df_student_teacher,df_community)\n",
    "\n",
    "DataFrame2 = fx_salary(df_performance,df_student_teacher,df_community)\n",
    "\n",
    "DataFrame3 = fx_community(df_performance,df_community)\n",
    "\n",
    "\n",
    "\n",
    "# import all_plots as v_plot\n",
    "#\n",
    "# # plotting call\n",
    "#\n",
    "# legend_dict = {'legend', 'xxx', 'x_name' = 'eeeee', 'year': v_interested_year}\n",
    "# DataFrameA = DataFrame1.loc[:, ['pct_economical_disadvantage', 'pct_pass', 'total_students', 'community']]\n",
    "# rename_dict = {'pct_economical_disadvantage': 'x_data', 'pct_pass': 'y_data', 'total_students': 'bubble_size',\n",
    "#                'community': 'color_category'}\n",
    "# DataFrameA = DataFrameA.rename(columns=rename_dict, inplace=True)\n",
    "# fx_scatter_plot(DataFrameA, legend_dict)\n",
    "#\n",
    "# legend_dict = {'legend', 'yyyy', 'x_name' = 'eeee', 'year': v_interested_year}\n",
    "# DataFrameA = DataFrame2.loc[:, ['average_salary', 'pct_pass', 'total_students', 'community']]\n",
    "# rename_dict = {'average_salary': 'x_data', 'pct_pass': 'y_data', 'total_students': 'bubble_size',\n",
    "#                'community': 'color_category'}\n",
    "# DataFrameA = DataFrameA.rename(columns=rename_dict, inplace=True)\n",
    "# fx_scatter_plot(DataFrameA, legend_dict)\n",
    "#\n",
    "# legend_dict = {'legend', 'yyyy', 'x_name' = 'eeee', 'year': v_interested_year}\n",
    "# DataFrameB = DataFrame3.loc[:, ['community', 'pct_pass']]\n",
    "# rename_dict = {'community': 'x_data', 'pct_pass': 'y_data'}\n",
    "# DataFrameB = DataFrameB.rename(columns=rename_dict, inplace=True)\n",
    "# v_plot.fx_bar_plot(DataFrameB, legend_dict)\n",
    "\n",
    "#DataFrame1['campus_name'].count()\n",
    "#before 7761\n",
    "#DataFrame1.head()\n",
    "\n",
    "#x = transform_merge(df_performance,df_student_teacher,df_community)\n",
    "#df_student_teacher = df_student_teacher.dropna(how='any')\n",
    "#df_student_teacher.head()"
   ]
  },
  {
   "cell_type": "code",
   "execution_count": 17,
   "metadata": {
    "collapsed": true
   },
   "outputs": [],
   "source": [
    "# plot function \n",
    "def fx_bar_plot(DataFrameB, legend_dict):\n",
    "    x = DataFrameB['x_data']   \n",
    "    y = DataFrameB['y_data']   \n",
    "    fig, ax = plt.subplots()\n",
    "    fig.suptitle(legend_dict['title'], fontsize=15)\n",
    "    fig.tight_layout() # remove space between header and title\n",
    "    fig.subplots_adjust(top=.93) # adjust so title is just above chart\n",
    "    fig.set_size_inches(10, 6)\n",
    "    ax.set_ylim(65, 80, .5)\n",
    "    ax.bar(x, y, .5, color ='lightcoral', linewidth=.5)\n",
    "    ax.set_ylabel(legend_dict['ylabel'], fontsize=12)\n",
    "    ax.xaxis.grid(color='white', linestyle='solid', linewidth=1)\n",
    "    ax.yaxis.grid(color='white', linestyle='solid', linewidth=1)\n",
    "    ax.set_axisbelow(True) # show plots on top of grid lines\n",
    "    ax.set_facecolor('lightgray')\n",
    "    ax.tick_params('y', length=0, labelsize=13) # hide tick marks still show lables\n",
    "    ax.tick_params('x', rotation=90.0, length=0, labelsize=13) # hide tick marks still show lables\n",
    "    sns.despine(left=True, bottom=True, right=True) # remove border around chart\n",
    "    #fig.savefig(legend_dict['title'], bbox_inches=\"tight\")\n",
    "    fig.savefig(legend_dict['title'], bbox_inches = 'tight')\n",
    "    plt.show()"
   ]
  },
  {
   "cell_type": "code",
   "execution_count": 18,
   "metadata": {},
   "outputs": [
    {
     "data": {
      "image/png": "[encoded data removed]",
      "text/plain": [
       "<matplotlib.figure.Figure at 0x2182e5f82b0>"
      ]
     },
     "metadata": {},
     "output_type": "display_data"
    }
   ],
   "source": [
    "# bar plot call \n",
    "legend_dict = {'title' : str(v_interested_year) + ' Passing Pct vs Community Type',\n",
    "               'ylabel' : '% Passing (Median)',\n",
    "               'figname' : str(v_interested_year) +' passing_vs_community'\n",
    "              }\n",
    "DataFrameB =DataFrame3.loc[:,['community','median_pass']]\n",
    "rename_dict = {'community': 'x_data', 'median_pass': 'y_data'}\n",
    "DataFrameB.rename(columns=rename_dict, inplace=True)\n",
    "fx_bar_plot(DataFrameB, legend_dict)"
   ]
  }
 ],
 "metadata": {
  "kernelspec": {
   "display_name": "Python 3",
   "language": "python",
   "name": "python3"
  },
  "language_info": {
   "codemirror_mode": {
    "name": "ipython",
    "version": 3
   },
   "file_extension": ".py",
   "mimetype": "text/x-python",
   "name": "python",
   "nbconvert_exporter": "python",
   "pygments_lexer": "ipython3",
   "version": "3.6.3"
  }
 },
 "nbformat": 4,
 "nbformat_minor": 2
}
