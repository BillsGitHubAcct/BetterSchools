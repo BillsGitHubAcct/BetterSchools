{
 "cells": [
  {
   "cell_type": "code",
   "execution_count": 76,
   "metadata": {
    "collapsed": true
   },
   "outputs": [],
   "source": [
    "#Importing needed libraries\n",
    "from matplotlib import pyplot as plt\n",
    "import numpy as np\n",
    "import pandas as pd\n",
    "import datetime"
   ]
  },
  {
   "cell_type": "code",
   "execution_count": 77,
   "metadata": {
    "collapsed": true
   },
   "outputs": [],
   "source": [
    "#extract\n",
    "\n",
    "# import extract_performance as performance\n",
    "# import extract_student_teacher as student_teacher\n",
    "# import extract_community as community\n",
    "\n",
    "def fx_extract_performance(v_year):\n",
    "    if v_year == 2016:\n",
    "        df_performance = pd.read_csv('result_campus.csv')\n",
    "        rename_dict = {'Campus': 'campus_id' , 'Year' : 'year' , 'Student_count' : 'student_count' , 'Pass_count' : 'pass_count'}\n",
    "        df_performance.rename(columns=rename_dict, inplace=True)\n",
    "        return df_performance\n",
    "\n",
    "def fx_extract_student_teacher(v_year):\n",
    "    if v_year == 2016:\n",
    "        df_student_teacher = pd.read_csv('CAMPPROF_2016.csv')\n",
    "        rename_dict = {\"CPSTTOSA\": \"avg_salary\", \"CAMPUS\": \"campus_id\",\"CPETECOC\": \"ed_count\"}\n",
    "        df_student_teacher.rename(columns=rename_dict, inplace=True)\n",
    "        df_student_teacher['year'] = [v_year for i,r in df_student_teacher.iterrows() ]\n",
    "        df_student_teacher =df_student_teacher.loc[:,['campus_id',  'ed_count', 'avg_salary', 'year']]\n",
    "        return df_student_teacher\n",
    "    if v_year == 2017:\n",
    "        df_student_teacher = pd.read_csv('CAMPPROF_2017.csv')\n",
    "        rename_dict = {\"CPSTTOSA\": \"avg_salary\", \"CAMPUS\": \"campus_id\",\"CPETECOC\": \"ed_count\"}\n",
    "        df_student_teacher.rename(columns=rename_dict, inplace=True)\n",
    "        df_student_teacher['year'] = [v_year for i,r in df_student_teacher.iterrows() ]\n",
    "        df_student_teacher =df_student_teacher.loc[:,['campus_id',  'ed_count', 'avg_salary', 'year']]\n",
    "        return df_student_teacher\n",
    "\n",
    "def fx_extract_community():\n",
    "    df_community = pd.read_csv('Community.csv')\n",
    "    return df_community\n",
    "\n"
   ]
  },
  {
   "cell_type": "code",
   "execution_count": 78,
   "metadata": {},
   "outputs": [],
   "source": [
    "# #transform\n",
    "\n",
    "# import transform_campus_merge as campus_merge\n",
    "# import transform_community_merge as community_merge\n",
    "def transform_merge(df_performance,df_student_teacher,df_community):\n",
    "    df_community_performance = pd.merge(df_community,df_performance, on =['campus_id'], how='inner')\n",
    "    df_community_complete = pd.merge(df_community_performance,df_student_teacher,on =['campus_id','year'], how='inner')\n",
    "    df_community_complete['pct_pass'] = [(100*r['pass_count']/r['student_count']) for i, r in df_community_complete.iterrows()]\n",
    "    df_community_complete['pct_ed'] = [(100*r['ed_count']/r['student_count']) for i, r in df_community_complete.iterrows()]\n",
    "    df_community_complete = df_community_complete.reset_index()\n",
    "    return df_community_complete\n",
    "def fx_economical_disadvantage(df_performance,df_student_teacher,df_community):\n",
    "    df_community_complete= transform_merge(df_performance,df_student_teacher,df_community)\n",
    "    df_return = df_community_complete.loc[:,['campus_name',  'pct_ed', 'pct_pass' , 'student_count' , 'community', 'year']]\n",
    "    df_return.drop_duplicates()\n",
    "    df_return = df_return.dropna(how='any')\n",
    "    return df_return\n",
    "def fx_salary(df_performance,df_student_teacher,df_community):\n",
    "    df_community_complete= transform_merge(df_performance,df_student_teacher,df_community)\n",
    "    df_return =df_community_complete.loc[:,['campus_name',  'avg_salary', 'pct_pass' , 'student_count' , 'community', 'year']]\n",
    "    df_return.drop_duplicates()\n",
    "    df_return = df_return.dropna(how='any')\n",
    "    return df_return\n",
    "\n",
    "def fx_community(df_performance,df_community):\n",
    "    df_community_performance = pd.merge(df_community,df_performance,on = 'campus_id', how='inner')\n",
    "    df_community_performance['pct_pass'] = [(100*r['pass_count']/r['student_count']) for i, r in df_community_performance.iterrows()]\n",
    "    unique_community_type = pd.Series(df_community_performance[\"community\"]).unique()\n",
    "    df_community = pd.DataFrame(unique_community_type,columns=['community'])\n",
    "    df_community['median_pass'] = [df_community_performance.loc[(df_community_performance['community']==x) , 'pct_pass'].median()  for x in df_community[\"community\"]]\n",
    "    df_community.drop_duplicates()\n",
    "    df_community = df_community.dropna(how='any')\n",
    "    return df_community\n"
   ]
  },
  {
   "cell_type": "code",
   "execution_count": 79,
   "metadata": {},
   "outputs": [],
   "source": [
    "#extract\n",
    "v_interested_year = 2016\n",
    "\n",
    "df_performance = fx_extract_performance(v_interested_year)\n",
    "df_student_teacher = fx_extract_student_teacher(v_interested_year)\n",
    "df_community = fx_extract_community()\n",
    "\n",
    "\n",
    "#transform\n",
    "\n",
    "DataFrame1 = fx_economical_disadvantage(df_performance,df_student_teacher,df_community)\n",
    "\n",
    "DataFrame2 = fx_salary(df_performance,df_student_teacher,df_community)\n",
    "\n",
    "DataFrame3 = fx_community(df_performance,df_community)\n",
    "\n",
    "\n",
    "\n",
    "# import all_plots as v_plot\n",
    "#\n",
    "# # plotting call\n",
    "#\n",
    "# legend_dict = {'legend', 'xxx', 'x_name' = 'eeeee', 'year': v_interested_year}\n",
    "# DataFrameA = DataFrame1.loc[:, ['pct_economical_disadvantage', 'pct_pass', 'total_students', 'community']]\n",
    "# rename_dict = {'pct_economical_disadvantage': 'x_data', 'pct_pass': 'y_data', 'total_students': 'bubble_size',\n",
    "#                'community': 'color_category'}\n",
    "# DataFrameA = DataFrameA.rename(columns=rename_dict, inplace=True)\n",
    "# fx_scatter_plot(DataFrameA, legend_dict)\n",
    "#\n",
    "# legend_dict = {'legend', 'yyyy', 'x_name' = 'eeee', 'year': v_interested_year}\n",
    "# DataFrameA = DataFrame2.loc[:, ['average_salary', 'pct_pass', 'total_students', 'community']]\n",
    "# rename_dict = {'average_salary': 'x_data', 'pct_pass': 'y_data', 'total_students': 'bubble_size',\n",
    "#                'community': 'color_category'}\n",
    "# DataFrameA = DataFrameA.rename(columns=rename_dict, inplace=True)\n",
    "# fx_scatter_plot(DataFrameA, legend_dict)\n",
    "#\n",
    "# legend_dict = {'legend', 'yyyy', 'x_name' = 'eeee', 'year': v_interested_year}\n",
    "# DataFrameB = DataFrame3.loc[:, ['community', 'pct_pass']]\n",
    "# rename_dict = {'community': 'x_data', 'pct_pass': 'y_data'}\n",
    "# DataFrameB = DataFrameB.rename(columns=rename_dict, inplace=True)\n",
    "# v_plot.fx_bar_plot(DataFrameB, legend_dict)\n",
    "\n",
    "#DataFrame1['campus_name'].count()\n",
    "#before 7761\n",
    "#DataFrame1.head()\n",
    "\n",
    "#x = transform_merge(df_performance,df_student_teacher,df_community)\n",
    "#df_student_teacher = df_student_teacher.dropna(how='any')\n",
    "#df_student_teacher.head()"
   ]
  },
  {
   "cell_type": "code",
   "execution_count": 88,
   "metadata": {
    "collapsed": true
   },
   "outputs": [],
   "source": [
    "# plot function \n",
    "def fx_bar_plot(DataFrameB, legend_dict):\n",
    "    \n",
    "    x = DataFrameB['x_data']\n",
    "    y = DataFrameB['y_data']\n",
    "    width = .5  # the width of the bars\n",
    "    plt.bar(x, y, width, color='SkyBlue')\n",
    "    plt.title = (legend_dict['title'])\n",
    "    plt.ylabel(legend_dict['ylabel'])\n",
    "    plt.ylim(65, 85)\n",
    "    #plt.xlabel('Regions')\n",
    "    plt.xticks(rotation='vertical')\n",
    "    plt.savefig(legend_dict['figname'])\n",
    "    plt.show()"
   ]
  },
  {
   "cell_type": "code",
   "execution_count": 89,
   "metadata": {},
   "outputs": [
    {
     "data": {
      "image/png": "[encoded data removed]",
      "text/plain": [
       "<matplotlib.figure.Figure at 0x29c69d36320>"
      ]
     },
     "metadata": {},
     "output_type": "display_data"
    }
   ],
   "source": [
    "# bar plot call \n",
    "legend_dict = {'title' : str(v_interested_year) + 'Passing Pct vs Community Type',\n",
    "               'ylabel' : '% Passing Median',\n",
    "               'figname' : str(v_interested_year) +'passing_vs_community'\n",
    "              }\n",
    "DataFrameB =DataFrame3.loc[:,['community','median_pass']]\n",
    "rename_dict = {'community': 'x_data', 'median_pass': 'y_data'}\n",
    "DataFrameB.rename(columns=rename_dict, inplace=True)\n",
    "fx_bar_plot(DataFrameB, legend_dict)\n",
    "\n",
    "\n",
    "\n",
    "\n",
    "\n"
   ]
  }
 ],
 "metadata": {
  "kernelspec": {
   "display_name": "Python 3",
   "language": "python",
   "name": "python3"
  },
  "language_info": {
   "codemirror_mode": {
    "name": "ipython",
    "version": 3
   },
   "file_extension": ".py",
   "mimetype": "text/x-python",
   "name": "python",
   "nbconvert_exporter": "python",
   "pygments_lexer": "ipython3",
   "version": "3.6.3"
  }
 },
 "nbformat": 4,
 "nbformat_minor": 2
}
