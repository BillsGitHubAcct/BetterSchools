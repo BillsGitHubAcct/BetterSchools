{
 "cells": [
  {
   "cell_type": "code",
   "execution_count": 13,
   "metadata": {},
   "outputs": [
    {
     "data": {
      "image/png": "[encoded data removed]",
      "text/plain": [
       "<matplotlib.figure.Figure at 0x2202a3f8208>"
      ]
     },
     "metadata": {},
     "output_type": "display_data"
    }
   ],
   "source": [
    "# import dependencies\n",
    "import pandas as pd\n",
    "import numpy as np\n",
    "import matplotlib.pyplot as plt\n",
    "\n",
    "df_passing_pct = pd.read_csv('Campus_Passing_Pct.csv')\n",
    "df_community = pd.read_csv('Community.csv')\n",
    "\n",
    "df_merge_data = df_passing_pct.merge(df_community, on='campus_id')\n",
    "\n",
    "unique_community_type = pd.Series(df_merge_data[\"community\"]).unique()\n",
    "\n",
    "medians = []\n",
    "for community in unique_community_type:\n",
    "    df_temp = df_merge_data.loc[df_merge_data['community'] == community]\n",
    "    medians.append(df_temp[\"pass_rate\"].median())\n",
    "                            \n",
    "x = unique_community_type\n",
    "y = medians\n",
    "\n",
    "width = .5  # the width of the bars\n",
    "plt.title = ('2016 Passing Pct vs Community Type')\n",
    "plt.bar(x, y, width, color='SkyBlue')\n",
    "plt.ylabel('% Passing Median')\n",
    "plt.ylim(65, 85)\n",
    "#plt.xlabel('Regions')\n",
    "plt.xticks(rotation='vertical')\n",
    "plt.savefig('passing_vs_community')\n",
    "plt.show()\n"
   ]
  },
  {
   "cell_type": "code",
   "execution_count": 3,
   "metadata": {
    "collapsed": true
   },
   "outputs": [],
   "source": [
    "df_passing_pct = pd.read_csv('Campus_Passing_Pct.csv')\n",
    "df_community = pd.read_csv('Community.csv')"
   ]
  },
  {
   "cell_type": "code",
   "execution_count": 4,
   "metadata": {},
   "outputs": [
    {
     "data": {
      "text/html": [
       "<div>\n",
       "<style scoped>\n",
       "    .dataframe tbody tr th:only-of-type {\n",
       "        vertical-align: middle;\n",
       "    }\n",
       "\n",
       "    .dataframe tbody tr th {\n",
       "        vertical-align: top;\n",
       "    }\n",
       "\n",
       "    .dataframe thead th {\n",
       "        text-align: right;\n",
       "    }\n",
       "</style>\n",
       "<table border=\"1\" class=\"dataframe\">\n",
       "  <thead>\n",
       "    <tr style=\"text-align: right;\">\n",
       "      <th></th>\n",
       "      <th>campus_id</th>\n",
       "      <th>student_count</th>\n",
       "      <th>pass_count</th>\n",
       "      <th>pass_rate</th>\n",
       "      <th>year</th>\n",
       "      <th>district_id</th>\n",
       "      <th>district_name</th>\n",
       "      <th>campus_name</th>\n",
       "      <th>community</th>\n",
       "      <th>Unnamed: 5</th>\n",
       "    </tr>\n",
       "  </thead>\n",
       "  <tbody>\n",
       "    <tr>\n",
       "      <th>3386</th>\n",
       "      <td>101814102</td>\n",
       "      <td>452</td>\n",
       "      <td>364</td>\n",
       "      <td>81</td>\n",
       "      <td>2016</td>\n",
       "      <td>101814</td>\n",
       "      <td>THE VARNETT PUBLIC SCHOOL</td>\n",
       "      <td>THE VARNETT SCHOOL - NORTHEAST</td>\n",
       "      <td>Charters</td>\n",
       "      <td>NaN</td>\n",
       "    </tr>\n",
       "    <tr>\n",
       "      <th>1613</th>\n",
       "      <td>57828003</td>\n",
       "      <td>214</td>\n",
       "      <td>102</td>\n",
       "      <td>48</td>\n",
       "      <td>2016</td>\n",
       "      <td>57828</td>\n",
       "      <td>WINFREE ACADEMY CHARTER SCHOOLS</td>\n",
       "      <td>WINFREE ACADEMY CHARTER SCHOOL (RI</td>\n",
       "      <td>Charters</td>\n",
       "      <td>NaN</td>\n",
       "    </tr>\n",
       "    <tr>\n",
       "      <th>1612</th>\n",
       "      <td>57828002</td>\n",
       "      <td>105</td>\n",
       "      <td>62</td>\n",
       "      <td>59</td>\n",
       "      <td>2016</td>\n",
       "      <td>57828</td>\n",
       "      <td>WINFREE ACADEMY CHARTER SCHOOLS</td>\n",
       "      <td>WINFREE ACADEMY CHARTER SCHOOL (LE</td>\n",
       "      <td>Charters</td>\n",
       "      <td>NaN</td>\n",
       "    </tr>\n",
       "    <tr>\n",
       "      <th>1611</th>\n",
       "      <td>57828001</td>\n",
       "      <td>165</td>\n",
       "      <td>69</td>\n",
       "      <td>42</td>\n",
       "      <td>2016</td>\n",
       "      <td>57828</td>\n",
       "      <td>WINFREE ACADEMY CHARTER SCHOOLS</td>\n",
       "      <td>WINFREE ACADEMY CHARTER SCHOOL (IR</td>\n",
       "      <td>Charters</td>\n",
       "      <td>NaN</td>\n",
       "    </tr>\n",
       "    <tr>\n",
       "      <th>1610</th>\n",
       "      <td>57827102</td>\n",
       "      <td>974</td>\n",
       "      <td>741</td>\n",
       "      <td>76</td>\n",
       "      <td>2016</td>\n",
       "      <td>57827</td>\n",
       "      <td>NOVA ACADEMY (SOUTHEAST)</td>\n",
       "      <td>NOVA ACADEMY PRICHARD</td>\n",
       "      <td>Charters</td>\n",
       "      <td>NaN</td>\n",
       "    </tr>\n",
       "  </tbody>\n",
       "</table>\n",
       "</div>"
      ],
      "text/plain": [
       "      campus_id  student_count  pass_count  pass_rate  year  district_id  \\\n",
       "3386  101814102            452         364         81  2016       101814   \n",
       "1613   57828003            214         102         48  2016        57828   \n",
       "1612   57828002            105          62         59  2016        57828   \n",
       "1611   57828001            165          69         42  2016        57828   \n",
       "1610   57827102            974         741         76  2016        57827   \n",
       "\n",
       "                        district_name                         campus_name  \\\n",
       "3386        THE VARNETT PUBLIC SCHOOL      THE VARNETT SCHOOL - NORTHEAST   \n",
       "1613  WINFREE ACADEMY CHARTER SCHOOLS  WINFREE ACADEMY CHARTER SCHOOL (RI   \n",
       "1612  WINFREE ACADEMY CHARTER SCHOOLS  WINFREE ACADEMY CHARTER SCHOOL (LE   \n",
       "1611  WINFREE ACADEMY CHARTER SCHOOLS  WINFREE ACADEMY CHARTER SCHOOL (IR   \n",
       "1610         NOVA ACADEMY (SOUTHEAST)               NOVA ACADEMY PRICHARD   \n",
       "\n",
       "     community  Unnamed: 5  \n",
       "3386  Charters         NaN  \n",
       "1613  Charters         NaN  \n",
       "1612  Charters         NaN  \n",
       "1611  Charters         NaN  \n",
       "1610  Charters         NaN  "
      ]
     },
     "execution_count": 4,
     "metadata": {},
     "output_type": "execute_result"
    }
   ],
   "source": [
    "df_merge_data = df_passing_pct.merge(df_community, on='campus_id')\n",
    "df_merge_data = df_merge_data.sort_values(by=['community'])\n",
    "df_merge_data.head()"
   ]
  },
  {
   "cell_type": "code",
   "execution_count": 5,
   "metadata": {},
   "outputs": [
    {
     "name": "stdout",
     "output_type": "stream",
     "text": [
      "['Charters' 'Independent Town' 'Major Suburban' 'Marjor Urban'\n",
      " 'Non-Metro Fast Growing' 'Non-Metro Stable' 'Other CC Suburban'\n",
      " 'Other Central City' 'Rural']\n"
     ]
    }
   ],
   "source": [
    "unique_community_type = pd.Series(df_merge_data[\"community\"]).unique()\n",
    "total_community_types = len(unique_community_type)\n",
    "print (unique_community_type)"
   ]
  },
  {
   "cell_type": "code",
   "execution_count": 6,
   "metadata": {
    "collapsed": true
   },
   "outputs": [],
   "source": [
    "medians = []\n",
    "for community in unique_community_type:\n",
    "    df_temp = df_merge_data.loc[df_merge_data['community'] == community]\n",
    "    medians.append(df_temp[\"pass_rate\"].median())\n"
   ]
  },
  {
   "cell_type": "code",
   "execution_count": 9,
   "metadata": {
    "collapsed": true
   },
   "outputs": [],
   "source": [
    "means = []\n",
    "for community in unique_community_type:\n",
    "    df_temp = df_merge_data.loc[df_merge_data['community'] == community]\n",
    "    #print(df_temp)\n",
    "    means.append(df_temp[\"pass_rate\"].mean())   \n",
    "   "
   ]
  },
  {
   "cell_type": "code",
   "execution_count": 7,
   "metadata": {},
   "outputs": [
    {
     "name": "stdout",
     "output_type": "stream",
     "text": [
      "['Charters' 'Independent Town' 'Major Suburban' 'Marjor Urban'\n",
      " 'Non-Metro Fast Growing' 'Non-Metro Stable' 'Other CC Suburban'\n",
      " 'Other Central City' 'Rural']\n",
      "[73.0, 71.0, 78.0, 71.0, 79.0, 73.0, 77.0, 76.0, 76.0]\n"
     ]
    }
   ],
   "source": [
    "x = unique_community_type\n",
    "print(x)\n",
    "y = medians\n",
    "print(y)"
   ]
  },
  {
   "cell_type": "code",
   "execution_count": 8,
   "metadata": {},
   "outputs": [
    {
     "data": {
      "image/png": "[encoded data removed]",
      "text/plain": [
       "<matplotlib.figure.Figure at 0x2202a426fd0>"
      ]
     },
     "metadata": {},
     "output_type": "display_data"
    }
   ],
   "source": [
    "width = .5  # the width of the bars\n",
    "plt.title = ('2016 Passing Pct vs Community Type')\n",
    "plt.bar(x, y, width, color='SkyBlue')\n",
    "plt.ylabel('% Passing Median')\n",
    "plt.ylim(65, 85)\n",
    "#plt.xlabel('Regions')\n",
    "plt.xticks(rotation='vertical')\n",
    "plt.savefig('passing_vs_community')\n",
    "plt.show()"
   ]
  },
  {
   "cell_type": "code",
   "execution_count": 10,
   "metadata": {
    "collapsed": true
   },
   "outputs": [],
   "source": [
    "means = []\n",
    "for community in unique_community_type:\n",
    "    df_temp = df_merge_data.loc[df_merge_data['community'] == community]\n",
    "    #print(df_temp)\n",
    "    means.append(df_temp[\"pass_rate\"].mean())\n",
    "y = means"
   ]
  },
  {
   "cell_type": "code",
   "execution_count": 11,
   "metadata": {},
   "outputs": [
    {
     "data": {
      "image/png": "[encoded data removed]",
      "text/plain": [
       "<matplotlib.figure.Figure at 0x2202a73c390>"
      ]
     },
     "metadata": {},
     "output_type": "display_data"
    }
   ],
   "source": [
    "width = .5  # the width of the bars\n",
    "plt.title = ('2016 Passing Pct vs Community Type')\n",
    "plt.bar(x, y, width, color='SkyBlue')\n",
    "plt.ylabel('% Passing Mean')\n",
    "plt.ylim(65, 85)\n",
    "#plt.xlabel('Regions')\n",
    "plt.xticks(rotation='vertical')\n",
    "plt.savefig('passing_vs_community')\n",
    "plt.show()"
   ]
  }
 ],
 "metadata": {
  "kernelspec": {
   "display_name": "Python 3",
   "language": "python",
   "name": "python3"
  },
  "language_info": {
   "codemirror_mode": {
    "name": "ipython",
    "version": 3
   },
   "file_extension": ".py",
   "mimetype": "text/x-python",
   "name": "python",
   "nbconvert_exporter": "python",
   "pygments_lexer": "ipython3",
   "version": "3.6.3"
  }
 },
 "nbformat": 4,
 "nbformat_minor": 2
}
